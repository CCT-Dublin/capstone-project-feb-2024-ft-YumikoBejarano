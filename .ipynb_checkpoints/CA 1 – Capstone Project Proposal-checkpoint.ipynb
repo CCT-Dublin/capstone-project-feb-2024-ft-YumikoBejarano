{
 "cells": [
  {
   "cell_type": "code",
   "execution_count": null,
   "id": "f79be12d",
   "metadata": {},
   "outputs": [],
   "source": []
  },
  {
   "cell_type": "code",
   "execution_count": 7,
   "id": "d713fee7",
   "metadata": {},
   "outputs": [
    {
     "name": "stdout",
     "output_type": "stream",
     "text": [
      "1. multiple_choice_response:  Index(['Time from Start to Finish (seconds)', 'Q1', 'Q2', 'Q2_OTHER_TEXT',\n",
      "       'Q3', 'Q4', 'Q5', 'Q5_OTHER_TEXT', 'Q6', 'Q7',\n",
      "       ...\n",
      "       'Q34_Part_4', 'Q34_Part_5', 'Q34_Part_6', 'Q34_Part_7', 'Q34_Part_8',\n",
      "       'Q34_Part_9', 'Q34_Part_10', 'Q34_Part_11', 'Q34_Part_12',\n",
      "       'Q34_OTHER_TEXT'],\n",
      "      dtype='object', length=246)\n",
      "2. other_text_responses:  Index(['Q12_OTHER_TEXT', 'Q13_OTHER_TEXT', 'Q14_OTHER_TEXT', 'Q14_Part_1_TEXT',\n",
      "       'Q14_Part_2_TEXT', 'Q14_Part_3_TEXT', 'Q14_Part_4_TEXT',\n",
      "       'Q14_Part_5_TEXT', 'Q16_OTHER_TEXT', 'Q17_OTHER_TEXT', 'Q18_OTHER_TEXT',\n",
      "       'Q19_OTHER_TEXT', 'Q20_OTHER_TEXT', 'Q21_OTHER_TEXT', 'Q24_OTHER_TEXT',\n",
      "       'Q25_OTHER_TEXT', 'Q26_OTHER_TEXT', 'Q27_OTHER_TEXT', 'Q28_OTHER_TEXT',\n",
      "       'Q29_OTHER_TEXT', 'Q2_OTHER_TEXT', 'Q30_OTHER_TEXT', 'Q31_OTHER_TEXT',\n",
      "       'Q32_OTHER_TEXT', 'Q33_OTHER_TEXT', 'Q34_OTHER_TEXT', 'Q5_OTHER_TEXT',\n",
      "       'Q9_OTHER_TEXT'],\n",
      "      dtype='object')\n",
      "3. questions_only:  Index(['Time from Start to Finish (seconds)', 'Q1', 'Q2', 'Q3', 'Q4', 'Q5',\n",
      "       'Q6', 'Q7', 'Q8', 'Q9', 'Q10', 'Q11', 'Q12', 'Q13', 'Q14', 'Q15', 'Q16',\n",
      "       'Q17', 'Q18', 'Q19', 'Q20', 'Q21', 'Q22', 'Q23', 'Q24', 'Q25', 'Q26',\n",
      "       'Q27', 'Q28', 'Q29', 'Q30', 'Q31', 'Q32', 'Q33', 'Q34'],\n",
      "      dtype='object')\n"
     ]
    }
   ],
   "source": [
    "import pandas as pd\n",
    "\n",
    "# Especifica el tipo de datos manualmente para todas las columnas\n",
    "dtype_dict = {col: str for col in multiple_choice_responses.columns}\n",
    "\n",
    "# Carga el conjunto de datos con el tipo de datos especificado\n",
    "multiple_choice_responses = pd.read_csv(\"Dataset/kaggle-survey-2019/multiple_choice_responses.csv\", dtype=dtype_dict)\n",
    "other_text_responses = pd.read_csv(\"Dataset/kaggle-survey-2019/other_text_responses.csv\")\n",
    "questions_only = pd.read_csv(\"Dataset/kaggle-survey-2019/questions_only.csv\")\n",
    "survey_schema = pd.read_csv(\"Dataset/kaggle-survey-2019/survey_schema.csv\")\n",
    "\n",
    "# Muestra las columnas de todas las tablas\n",
    "print(\"1. multiple_choice_response: \", multiple_choice_responses.columns)\n",
    "print(\"2. other_text_responses: \", other_text_responses.columns)\n",
    "print(\"3. questions_only: \", questions_only.columns)\n",
    "# print(\"4. survey_schema: \", survey_schema)\n"
   ]
  },
  {
   "cell_type": "code",
   "execution_count": 8,
   "id": "3e512937",
   "metadata": {},
   "outputs": [],
   "source": [
    "demographics = multiple_choice_responses[['Q1','Q2','Q3']].drop(multiple_choice_responses.index[0])\n",
    "demographics = demographics[(demographics['Q2'] == 'Female') | (demographics['Q2'] == 'Male')]\n",
    "demographics = demographics.rename(columns={'Q1':'Age_Group', 'Q2':'Gender', 'Q3':'Country'})"
   ]
  },
  {
   "cell_type": "code",
   "execution_count": 9,
   "id": "d02b2b3b",
   "metadata": {},
   "outputs": [
    {
     "data": {
      "image/png": "[encoded data removed]",
      "text/plain": [
       "<Figure size 800x600 with 1 Axes>"
      ]
     },
     "metadata": {},
     "output_type": "display_data"
    }
   ],
   "source": [
    "import matplotlib.pyplot as plt\n",
    "import seaborn as sns\n",
    "\n",
    "# Filtrar solo las filas con género \"Female\" o \"Male\"\n",
    "filtered_demographics = demographics[(demographics['Gender'] == 'Female') | (demographics['Gender'] == 'Male')]\n",
    "\n",
    "# Contar la cantidad de encuestados por género\n",
    "gender_counts = filtered_demographics['Gender'].value_counts()\n",
    "\n",
    "# Crear el gráfico de barras\n",
    "plt.figure(figsize=(8, 6))\n",
    "sns.barplot(x=gender_counts.index, y=gender_counts.values)\n",
    "plt.title('Distribution of Gender in Survey')\n",
    "plt.xlabel('Gender')\n",
    "plt.ylabel('Count')\n",
    "plt.show()\n"
   ]
  },
  {
   "cell_type": "code",
   "execution_count": null,
   "id": "3d6b0c9c",
   "metadata": {},
   "outputs": [],
   "source": []
  },
  {
   "cell_type": "code",
   "execution_count": null,
   "id": "0c8f8568",
   "metadata": {},
   "outputs": [],
   "source": [
    "import pandas as pd\n",
    "import seaborn as sns\n",
    "import matplotlib.pyplot as plt\n",
    "\n",
    "\n",
    "# Convirtiendo las columnas 'Female' y 'Male' a tipo float\n",
    "loc['Female'] = loc['Female'].astype(float)\n",
    "loc['Male'] = loc['Male'].astype(float)\n",
    "\n",
    "# Ordenando los valores por el número de mujeres (en orden descendente)\n",
    "loc = loc.sort_values(by=['Female'], ascending=False)\n",
    "\n",
    "# Creando el gráfico de barras horizontal\n",
    "fig, ax = plt.subplots(1, 1, figsize=(15, 30))\n",
    "ax.set_title('Female Respondents by Location')\n",
    "ax.set(xlabel='Counts')\n",
    "sns.set(style='whitegrid')\n",
    "ax = sns.barplot(x=loc['Female'], y=loc.index, ax=ax, palette=\"vlag\")\n",
    "plt.show()\n",
    "\n",
    "# Calculando el porcentaje de mujeres por ubicación\n",
    "for i in loc.index:\n",
    "    female = loc.at[i, 'Female']\n",
    "    male = loc.at[i, 'Male']\n",
    "    total = loc.at[i, 'Female'] + loc.at[i, 'Male']\n",
    "    loc.at[i, 'Female'] = round(female / total * 100, 2)  # Calculando el porcentaje y redondeando a 2 decimales\n",
    "\n",
    "# Eliminando la columna 'Male'\n",
    "loc = loc.drop(['Male'], axis=1)\n",
    "\n",
    "# Ordenando los valores por el porcentaje de mujeres (en orden descendente)\n",
    "loc = loc.sort_values(by=['Female'], ascending=False)\n",
    "\n",
    "# Creando el gráfico de barras horizontal para el porcentaje de mujeres\n",
    "fig, ax = plt.subplots(1, 1, figsize=(15, 30))\n",
    "ax.set_title('Female Respondents by Location (Percentage)')\n",
    "ax.set(xlabel='Percentage')\n",
    "sns.set(style='whitegrid')\n",
    "ax = sns.barplot(x=loc['Female'], y=loc.index, ax=ax, palette=\"vlag\")\n",
    "plt.show()\n"
   ]
  },
  {
   "cell_type": "code",
   "execution_count": null,
   "id": "f56ab794",
   "metadata": {},
   "outputs": [],
   "source": []
  }
 ],
 "metadata": {
  "kernelspec": {
   "display_name": "Python 3 (ipykernel)",
   "language": "python",
   "name": "python3"
  },
  "language_info": {
   "codemirror_mode": {
    "name": "ipython",
    "version": 3
   },
   "file_extension": ".py",
   "mimetype": "text/x-python",
   "name": "python",
   "nbconvert_exporter": "python",
   "pygments_lexer": "ipython3",
   "version": "3.11.5"
  }
 },
 "nbformat": 4,
 "nbformat_minor": 5
}
